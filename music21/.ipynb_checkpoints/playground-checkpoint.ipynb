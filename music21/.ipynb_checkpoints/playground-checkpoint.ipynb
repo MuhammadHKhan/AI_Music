{
 "cells": [
  {
   "cell_type": "markdown",
   "id": "42852dc0",
   "metadata": {},
   "source": [
    "### Playground for music21\n",
    "If you have music experience and potentially want to apply some of this stuff to the AI, I highly suggest exploring music21 and putting down thoughts on Discord.\n",
    "\n",
    "link to documentation: https://web.mit.edu/music21/doc/index.html"
   ]
  },
  {
   "cell_type": "code",
   "execution_count": 1,
   "id": "6d14c3ed",
   "metadata": {},
   "outputs": [],
   "source": [
    "from music21 import *"
   ]
  },
  {
   "cell_type": "code",
   "execution_count": 2,
   "id": "45890456",
   "metadata": {},
   "outputs": [],
   "source": [
    "# if not done already, make sure you have musescore installed somewhere locally\n",
    "# might take some time to execute\n",
    "###configure.run()"
   ]
  },
  {
   "cell_type": "code",
   "execution_count": 3,
   "id": "b3c39a0b",
   "metadata": {},
   "outputs": [],
   "source": [
    "# if configure doesn't work when n1.show() in the below cell doesn't work\n",
    "# this code applys to MY pc... adjust accordingly\n",
    "###from pathlib import WindowsPath\n",
    "###us['musescoreDirectPNGPath'] = WindowsPath('C:/Program Files/MuseScore 3/bin/MuseScore3.exe')\n",
    "###us['musicxmlPath'] = WindowsPath('C:/Program Files/MuseScore 3/bin/MuseScore3.exe')"
   ]
  },
  {
   "cell_type": "code",
   "execution_count": 4,
   "id": "b218d09a",
   "metadata": {},
   "outputs": [
    {
     "data": {
      "image/png": "[encoded data removed]",
      "text/plain": [
       "<IPython.core.display.Image object>"
      ]
     },
     "metadata": {
      "image/png": {
       "height": 49,
       "width": 196
      }
     },
     "output_type": "display_data"
    }
   ],
   "source": [
    "# show in xml\n",
    "n1 = note.Note('C4')\n",
    "n1.show()"
   ]
  },
  {
   "cell_type": "code",
   "execution_count": 5,
   "id": "2df469f9",
   "metadata": {},
   "outputs": [
    {
     "data": {
      "text/html": [
       "\n",
       "                <div id=\"midiPlayerDiv49\"></div>\n",
       "                <link rel=\"stylesheet\" href=\"//cuthbertLab.github.io/music21j/css/m21.css\"\n",
       "                    type=\"text/css\" />\n",
       "                \n",
       "                <script>\n",
       "                require.config({\n",
       "                    paths: {'music21': '//cuthbertLab.github.io/music21j/src/music21'}\n",
       "                });\n",
       "                require(['music21'], function() {\n",
       "                               mp = new music21.miditools.MidiPlayer();\n",
       "                               mp.addPlayer(\"#midiPlayerDiv49\");\n",
       "                               mp.base64Load(\"data:audio/midi;base64,TVRoZAAAAAYAAQACBABNVHJrAAAAFAD/UQMHoSAA/1gEBAIYCIgA/y8ATVRyawAAABcA/wMAAOAAQIgAkDxaiACAPACIAP8vAA==\");\n",
       "                        });\n",
       "                </script>"
      ],
      "text/plain": [
       "<IPython.core.display.HTML object>"
      ]
     },
     "metadata": {},
     "output_type": "display_data"
    }
   ],
   "source": [
    "# show as midi\n",
    "n1.show('midi')"
   ]
  },
  {
   "cell_type": "code",
   "execution_count": 6,
   "id": "5f0eca84",
   "metadata": {},
   "outputs": [
    {
     "data": {
      "image/png": "[encoded data removed]",
      "text/plain": [
       "<IPython.core.display.Image object>"
      ]
     },
     "metadata": {
      "image/png": {
       "height": 49,
       "width": 200
      }
     },
     "output_type": "display_data"
    },
    {
     "data": {
      "text/html": [
       "\n",
       "                <div id=\"midiPlayerDiv99\"></div>\n",
       "                <link rel=\"stylesheet\" href=\"//cuthbertLab.github.io/music21j/css/m21.css\"\n",
       "                    type=\"text/css\" />\n",
       "                \n",
       "                <script>\n",
       "                require.config({\n",
       "                    paths: {'music21': '//cuthbertLab.github.io/music21j/src/music21'}\n",
       "                });\n",
       "                require(['music21'], function() {\n",
       "                               mp = new music21.miditools.MidiPlayer();\n",
       "                               mp.addPlayer(\"#midiPlayerDiv99\");\n",
       "                               mp.base64Load(\"data:audio/midi;base64,TVRoZAAAAAYAAQACBABNVHJrAAAAFAD/UQMHoSAA/1gEBAIYCIgA/y8ATVRyawAAABcA/wMAAOAAQIgAkExaoACATACIAP8vAA==\");\n",
       "                        });\n",
       "                </script>"
      ],
      "text/plain": [
       "<IPython.core.display.HTML object>"
      ]
     },
     "metadata": {},
     "output_type": "display_data"
    }
   ],
   "source": [
    "# rhythmn <--> <note>.quarterLength\n",
    "n1 = note.Note('E5')\n",
    "n1.quarterLength = 4\n",
    "n1.show()\n",
    "n1.show('midi')"
   ]
  },
  {
   "cell_type": "code",
   "execution_count": 7,
   "id": "e1cc8227",
   "metadata": {},
   "outputs": [
    {
     "data": {
      "image/png": "[encoded data removed]",
      "text/plain": [
       "<IPython.core.display.Image object>"
      ]
     },
     "metadata": {
      "image/png": {
       "height": 74,
       "width": 674
      }
     },
     "output_type": "display_data"
    },
    {
     "data": {
      "text/html": [
       "\n",
       "                <div id=\"midiPlayerDiv558\"></div>\n",
       "                <link rel=\"stylesheet\" href=\"//cuthbertLab.github.io/music21j/css/m21.css\"\n",
       "                    type=\"text/css\" />\n",
       "                \n",
       "                <script>\n",
       "                require.config({\n",
       "                    paths: {'music21': '//cuthbertLab.github.io/music21j/src/music21'}\n",
       "                });\n",
       "                require(['music21'], function() {\n",
       "                               mp = new music21.miditools.MidiPlayer();\n",
       "                               mp.addPlayer(\"#midiPlayerDiv558\");\n",
       "                               mp.base64Load(\"data:audio/midi;base64,TVRoZAAAAAYAAQACBABNVHJrAAAAHQD/UQMLcbAA/1gEAQIYCIgA/1gEAwIYCIgA/y8ATVRyawAAALkA/wMAAOAAQIgAkEhaiACASAAAkEtakACASwAAkE1aiACATQAAkE9ajACATwAAkFBahACAUAAAkE9aiACATwAAkE1akACATQAAkEpaiACASgAAkEZajACARgAAkEhahACASAAAkEpaiACASgAAkEtakACASwAAkEhaiACASAAAkEhajACASAAAkEZahACARgAAkEhaiACASAAAkEpakACASgAAkEZaiACARgAAkENakACAQwCIAP8vAA==\");\n",
       "                        });\n",
       "                </script>"
      ],
      "text/plain": [
       "<IPython.core.display.HTML object>"
      ]
     },
     "metadata": {},
     "output_type": "display_data"
    }
   ],
   "source": [
    "# streams: demonstration w Greensleeves melody :)\n",
    "# and yes i'm flexing my music background\n",
    "\n",
    "# notes\n",
    "notesList = []\n",
    "notesList.append(meter.TimeSignature('1/4')) # pick-up note\n",
    "notesList.append(note.Note('C5'))\n",
    "notesList.append(meter.TimeSignature('3/4'))\n",
    "notesList.append(note.Note('Eb5'))\n",
    "notesList.append(note.Note('F5'))\n",
    "notesList.append(note.Note('G5'))\n",
    "notesList.append(note.Note('Ab5'))\n",
    "notesList.append(note.Note('G5'))\n",
    "notesList.append(note.Note('F5'))\n",
    "notesList.append(note.Note('D5'))\n",
    "notesList.append(note.Note('Bb4'))\n",
    "notesList.append(note.Note('C5'))\n",
    "notesList.append(note.Note('D5'))\n",
    "notesList.append(note.Note('Eb5'))\n",
    "notesList.append(note.Note('C5'))\n",
    "notesList.append(note.Note('C5'))\n",
    "notesList.append(note.Note('Bb4'))\n",
    "notesList.append(note.Note('C5'))\n",
    "notesList.append(note.Note('D5'))\n",
    "notesList.append(note.Note('Bb4'))\n",
    "notesList.append(note.Note('G4'))\n",
    "notesList.append(note.Rest())\n",
    "\n",
    "# rhythm... notice there's a pattern, hoping our NN can detect something like this\n",
    "notesList[3].quarterLength = 2\n",
    "notesList[5].quarterLength = 1.5\n",
    "notesList[6].quarterLength = 0.5\n",
    "notesList[8].quarterLength = 2\n",
    "notesList[10].quarterLength = 1.5\n",
    "notesList[11].quarterLength = 0.5\n",
    "notesList[13].quarterLength = 2\n",
    "notesList[15].quarterLength = 1.5\n",
    "notesList[16].quarterLength = 0.5\n",
    "notesList[18].quarterLength = 2\n",
    "notesList[20].quarterLength = 2\n",
    "\n",
    "stream1 = stream.Stream()\n",
    "stream1.append(tempo.MetronomeMark(80)) # tempo: 80 bpm\n",
    "stream1.append(notesList)\n",
    "stream1.show()\n",
    "stream1.show('midi')"
   ]
  },
  {
   "cell_type": "code",
   "execution_count": 8,
   "id": "66e1917f",
   "metadata": {},
   "outputs": [
    {
     "data": {
      "image/png": "[encoded data removed]",
      "text/plain": [
       "<IPython.core.display.Image object>"
      ]
     },
     "metadata": {
      "image/png": {
       "height": 74,
       "width": 674
      }
     },
     "output_type": "display_data"
    },
    {
     "data": {
      "text/html": [
       "\n",
       "                <div id=\"midiPlayerDiv1063\"></div>\n",
       "                <link rel=\"stylesheet\" href=\"//cuthbertLab.github.io/music21j/css/m21.css\"\n",
       "                    type=\"text/css\" />\n",
       "                \n",
       "                <script>\n",
       "                require.config({\n",
       "                    paths: {'music21': '//cuthbertLab.github.io/music21j/src/music21'}\n",
       "                });\n",
       "                require(['music21'], function() {\n",
       "                               mp = new music21.miditools.MidiPlayer();\n",
       "                               mp.addPlayer(\"#midiPlayerDiv1063\");\n",
       "                               mp.base64Load(\"data:audio/midi;base64,TVRoZAAAAAYAAQACBABNVHJrAAAAHQD/UQMLcbAA/1gEAQIYCIgA/1gEAwIYCIgA/y8ATVRyawAAAMkA/wMAAOAAQIgAkEhaiACASAAAkEtakACASwAAkE1aiACATQAAkE9ajACATwAAkFBahACAUAAAkE9aiACATwAAkE1akACATQAAkEpaiACASgAAkEZajACARgAAkEhahACASAAAkEpaiACASgAAkEtakACASwAAkEhaiACASAAAkEhajACASAAAkEZahACARgAAkEhaiACASAAAkEpakACASgAAkEZaiACARgAAkENaAJBGWgCQSlqQAIBDAACARgAAgEoAiAD/LwA=\");\n",
       "                        });\n",
       "                </script>"
      ],
      "text/plain": [
       "<IPython.core.display.HTML object>"
      ]
     },
     "metadata": {},
     "output_type": "display_data"
    }
   ],
   "source": [
    "# chord: change the last note in to g minor triad chord\n",
    "g4MinorTriad = chord.Chord([\"G4\", \"Bb4\", \"D5\"])\n",
    "notesList[20] = g4MinorTriad\n",
    "notesList[20].quarterLength = 2\n",
    "\n",
    "stream2 = stream.Stream()\n",
    "stream2.append(tempo.MetronomeMark(80)) # tempo: 80 bpm\n",
    "stream2.append(notesList)\n",
    "stream2.show()\n",
    "stream2.show('midi')"
   ]
  }
 ],
 "metadata": {
  "kernelspec": {
   "display_name": "Python 3 (ipykernel)",
   "language": "python",
   "name": "python3"
  },
  "language_info": {
   "codemirror_mode": {
    "name": "ipython",
    "version": 3
   },
   "file_extension": ".py",
   "mimetype": "text/x-python",
   "name": "python",
   "nbconvert_exporter": "python",
   "pygments_lexer": "ipython3",
   "version": "3.9.1"
  }
 },
 "nbformat": 4,
 "nbformat_minor": 5
}
